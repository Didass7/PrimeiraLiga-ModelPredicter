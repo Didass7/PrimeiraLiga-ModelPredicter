{
 "cells": [
  {
   "cell_type": "code",
   "execution_count": 3,
   "id": "82038a1e-fb45-4a60-a739-35bd941168eb",
   "metadata": {},
   "outputs": [],
   "source": [
    "import pandas as pd"
   ]
  },
  {
   "cell_type": "code",
   "execution_count": 11,
   "id": "a1cdf06c-5f29-4933-8529-df86dd694676",
   "metadata": {},
   "outputs": [],
   "source": [
    "url= \"https://fbref.com/en/comps/32/2024-2025/2024-2025-Primeira-Liga-Stats\""
   ]
  },
  {
   "cell_type": "code",
   "execution_count": 12,
   "id": "1df86cd9-8bd5-4092-a531-a80aa35435a0",
   "metadata": {},
   "outputs": [],
   "source": [
    "tables = pd.read_html(url)"
   ]
  },
  {
   "cell_type": "code",
   "execution_count": 13,
   "id": "6df97441-f8b7-44c3-b077-dfc53783ec74",
   "metadata": {},
   "outputs": [
    {
     "data": {
      "text/plain": [
       "10"
      ]
     },
     "execution_count": 13,
     "metadata": {},
     "output_type": "execute_result"
    }
   ],
   "source": [
    "len(tables)"
   ]
  },
  {
   "cell_type": "code",
   "execution_count": null,
   "id": "eab9368e-f081-45c8-a5f6-cfb2c18d340d",
   "metadata": {},
   "outputs": [],
   "source": [
    "df['"
   ]
  }
 ],
 "metadata": {
  "kernelspec": {
   "display_name": "Python 3 (ipykernel)",
   "language": "python",
   "name": "python3"
  },
  "language_info": {
   "codemirror_mode": {
    "name": "ipython",
    "version": 3
   },
   "file_extension": ".py",
   "mimetype": "text/x-python",
   "name": "python",
   "nbconvert_exporter": "python",
   "pygments_lexer": "ipython3",
   "version": "3.11.9"
  }
 },
 "nbformat": 4,
 "nbformat_minor": 5
}
