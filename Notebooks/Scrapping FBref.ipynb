{
 "cells": [
  {
   "cell_type": "code",
   "execution_count": 1,
   "id": "82038a1e-fb45-4a60-a739-35bd941168eb",
   "metadata": {},
   "outputs": [],
   "source": [
    "import pandas as pd"
   ]
  },
  {
   "cell_type": "code",
   "execution_count": 2,
   "id": "a1cdf06c-5f29-4933-8529-df86dd694676",
   "metadata": {},
   "outputs": [],
   "source": [
    "url= \"https://fbref.com/en/comps/32/2024-2025/2024-2025-Primeira-Liga-Stats\""
   ]
  },
  {
   "cell_type": "code",
   "execution_count": 3,
   "id": "1df86cd9-8bd5-4092-a531-a80aa35435a0",
   "metadata": {},
   "outputs": [],
   "source": [
    "tables = pd.read_html(url)"
   ]
  },
  {
   "cell_type": "code",
   "execution_count": 5,
   "id": "7d88ceae-9f50-400d-9cfc-f6a373fceeca",
   "metadata": {
    "scrolled": true
   },
   "outputs": [],
   "source": [
    "df_overall_raw_2024_25 = tables[0]\n",
    "df_overall_2024_25 = df_overall_raw_2024_25[[\n",
    "    'Squad', 'MP', 'W', 'D', 'L', 'GF', 'GA', 'GD', 'Pts',\n",
    "    'xG', 'xGA', 'xGD'\n",
    "]].copy()\n",
    "\n",
    "df_overall_2024_25 = df_overall_2024_25.rename(columns={\n",
    "    'Squad': 'Equipa',\n",
    "    'MP': 'JogosDisputados',\n",
    "    'W': 'Vitórias',\n",
    "    'D': 'Empates',\n",
    "    'L': 'Derrotas',\n",
    "    'GF': 'GolosMarcados',\n",
    "    'GA': 'GolosSofridos',\n",
    "    'GD': 'DiferençaDeGolos',\n",
    "    'Pts': 'Pontos',\n",
    "    'xG': 'GolosEsperados',\n",
    "    'xGA': 'GolosEsperadosSofridos',\n",
    "    'xGD': 'DiferençaDeGolosEsperados'\n",
    "})\n",
    "\n",
    "df_overall_2024_25.head()\n",
    "df_overall_2024_25.to_csv('overall_2024-2025.csv', index=False)"
   ]
  },
  {
   "cell_type": "code",
   "execution_count": 14,
   "id": "9578dda8-5d11-47f4-a6d9-c76666ccc79b",
   "metadata": {},
   "outputs": [],
   "source": [
    "df_stats_raw_2024_25 = tables[2].copy()\n",
    "\n",
    "\n",
    "df_stats_raw_2024_25.columns = [\n",
    "    \"_\".join([str(c).strip() for c in col if c]) if isinstance(col, tuple) else str(col).strip()\n",
    "    for col in df_stats_raw_2024_25.columns.values\n",
    "]\n",
    "\n",
    "df_stats_2024_25 = df_stats_raw_2024_25[[\n",
    "    'Unnamed: 0_level_0_Squad',\n",
    "    'Performance_Gls',\n",
    "    'Performance_Ast',\n",
    "    'Performance_G+A',\n",
    "    'Expected_xG',\n",
    "    'Expected_xAG',\n",
    "    'Expected_npxG',\n",
    "    'Progression_PrgC',\n",
    "    'Progression_PrgP'\n",
    "]].copy()\n",
    "\n",
    "df_stats_2024_25 = df_stats_2024_25.rename(columns={\n",
    "    'Unnamed: 0_level_0_Squad': 'Equipa',\n",
    "    'Performance_Gls': 'Golos',\n",
    "    'Performance_Ast': 'Assistências',\n",
    "    'Performance_G+A': 'Golos+Assistências',\n",
    "    'Expected_xG': 'GolosEsperados',\n",
    "    'Expected_xAG': 'GolosEsperadosAssistidos',\n",
    "    'Expected_npxG': 'GolosEsperadosSemPenáltis',\n",
    "    'Progression_PrgC': 'ConduçõesProgressivas',\n",
    "    'Progression_PrgP': 'PassesProgressivos'\n",
    "})\n",
    "\n",
    "df_stats_2024_25.head()\n",
    "\n",
    "\n",
    "df_stats_2024_25.to_csv('stats_2024-2025.csv', index=False)\n"
   ]
  },
  {
   "cell_type": "code",
   "execution_count": 16,
   "id": "8bbc7056-cdbd-4c49-a688-4c508033e661",
   "metadata": {},
   "outputs": [
    {
     "name": "stdout",
     "output_type": "stream",
     "text": [
      "['Unnamed: 0_level_0_Squad', 'Unnamed: 1_level_0_# Pl', 'Playing Time_MP', 'Playing Time_Starts', 'Playing Time_Min', 'Playing Time_90s', 'Performance_GA', 'Performance_GA90', 'Performance_SoTA', 'Performance_Saves', 'Performance_Save%', 'Performance_W', 'Performance_D', 'Performance_L', 'Performance_CS', 'Performance_CS%', 'Penalty Kicks_PKatt', 'Penalty Kicks_PKA', 'Penalty Kicks_PKsv', 'Penalty Kicks_PKm', 'Penalty Kicks_Save%']\n",
      "        Equipa  GolosSofridos  JogosSemSofrerGolos  %DeJogosSemSofrerGolos  \\\n",
      "0       Arouca             49                    8                    23.5   \n",
      "1  AVS Futebol             60                    8                    23.5   \n",
      "2      Benfica             28                   15                    44.1   \n",
      "3     Boavista             59                    7                    20.6   \n",
      "4        Braga             30                   15                    44.1   \n",
      "\n",
      "   %DeDefesas  RematesÀBalizaSofridos  \n",
      "0        71.4                     140  \n",
      "1        67.4                     175  \n",
      "2        75.5                     106  \n",
      "3        69.4                     173  \n",
      "4        78.0                     123  \n"
     ]
    }
   ],
   "source": [
    "df_goalkeeping_raw_2024_25 = tables[4].copy()\n",
    "\n",
    "\n",
    "df_goalkeeping_raw_2024_25.columns = [\n",
    "    \"_\".join([str(c).strip() for c in col if c]) if isinstance(col, tuple) else str(col).strip()\n",
    "    for col in df_goalkeeping_raw_2024_25.columns.values\n",
    "]\n",
    "\n",
    "\n",
    "print(df_goalkeeping_raw_2024_25.columns.tolist())\n",
    "\n",
    "\n",
    "df_goalkeeping_2024_25 = df_goalkeeping_raw_2024_25[[\n",
    "    'Unnamed: 0_level_0_Squad',\n",
    "    'Performance_GA',\n",
    "    'Performance_CS',\n",
    "    'Performance_CS%',\n",
    "    'Performance_Save%',\n",
    "    'Performance_SoTA'\n",
    "]].copy()\n",
    "\n",
    "df_goalkeeping_2024_25 = df_goalkeeping_2024_25.rename(columns={\n",
    "    'Unnamed: 0_level_0_Squad': 'Equipa',\n",
    "    'Performance_GA': 'GolosSofridos',\n",
    "    'Performance_CS': 'JogosSemSofrerGolos',\n",
    "    'Performance_CS%': '%DeJogosSemSofrerGolos',\n",
    "    'Performance_Save%': '%DeDefesas',\n",
    "    'Performance_SoTA': 'RematesÀBalizaSofridos'\n",
    "})\n",
    "\n",
    "\n",
    "print(df_goalkeeping_2024_25.head())\n",
    "\n",
    "\n",
    "df_goalkeeping_2024_25.to_csv('goalkeeping_2024-2025.csv', index=False)\n"
   ]
  },
  {
   "cell_type": "code",
   "execution_count": 19,
   "id": "a8e4a962-cac6-4ab7-b99b-8bc47dcb110e",
   "metadata": {},
   "outputs": [
    {
     "name": "stdout",
     "output_type": "stream",
     "text": [
      "        Equipa  GolosEsperadosAposRemate  GolosEsperadosAposRemate+/-  \\\n",
      "0       Arouca                      46.1                         -0.9   \n",
      "1  AVS Futebol                      60.5                          1.5   \n",
      "2      Benfica                      34.5                          6.5   \n",
      "3     Boavista                      57.1                          1.1   \n",
      "4        Braga                      31.0                          2.0   \n",
      "\n",
      "   AcoesForaDaGrandeArea  \n",
      "0                     50  \n",
      "1                     24  \n",
      "2                     19  \n",
      "3                     25  \n",
      "4                     59  \n"
     ]
    }
   ],
   "source": [
    "df_goalkeeping_advanced_raw_2024_25 = tables[6].copy()\n",
    "\n",
    "df_goalkeeping_advanced_raw_2024_25.columns = [\n",
    "    \"_\".join([str(c).strip() for c in col if c]) if isinstance(col, tuple) else str(col).strip()\n",
    "    for col in df_goalkeeping_advanced_raw_2024_25.columns.values\n",
    "]\n",
    "\n",
    "df_goalkeeping_advanced_2024_25 = df_goalkeeping_advanced_raw_2024_25[[\n",
    "    'Unnamed: 0_level_0_Squad',\n",
    "    'Expected_PSxG',\n",
    "    'Expected_PSxG+/-',\n",
    "    'Sweeper_#OPA'\n",
    "]].copy()\n",
    "\n",
    "df_goalkeeping_advanced_2024_25 = df_goalkeeping_advanced_2024_25.rename(columns={\n",
    "    'Unnamed: 0_level_0_Squad': 'Equipa',\n",
    "    'Expected_PSxG': 'GolosEsperadosAposRemate',\n",
    "    'Expected_PSxG+/-': 'GolosEsperadosAposRemate+/-',\n",
    "    'Sweeper_#OPA': 'AcoesForaDaGrandeArea'\n",
    "})\n",
    "\n",
    "print(df_goalkeeping_advanced_2024_25.head())\n",
    "\n",
    "df_goalkeeping_advanced_2024_25.to_csv('goalkeeping_advanced_2024-2025.csv', index=False)"
   ]
  },
  {
   "cell_type": "code",
   "execution_count": 21,
   "id": "c683802d-ec8a-42a1-88a8-eab989a9b443",
   "metadata": {},
   "outputs": [
    {
     "name": "stdout",
     "output_type": "stream",
     "text": [
      "['Unnamed: 0_level_0_Squad', 'Unnamed: 1_level_0_# Pl', 'Unnamed: 2_level_0_90s', 'Standard_Gls', 'Standard_Sh', 'Standard_SoT', 'Standard_SoT%', 'Standard_Sh/90', 'Standard_SoT/90', 'Standard_G/Sh', 'Standard_G/SoT', 'Standard_Dist', 'Standard_FK', 'Standard_PK', 'Standard_PKatt', 'Expected_xG', 'Expected_npxG', 'Expected_npxG/Sh', 'Expected_G-xG', 'Expected_np:G-xG']\n",
      "        Equipa  Golos  Remates  RematesÀBaliza  %DeRematesÀBaliza  \\\n",
      "0       Arouca     34      390             119               30.5   \n",
      "1  AVS Futebol     25      341              87               25.5   \n",
      "2      Benfica     81      559             213               38.1   \n",
      "3     Boavista     23      345             102               29.6   \n",
      "4        Braga     54      459             155               33.8   \n",
      "\n",
      "   GolosEsperados  GolosEsperadosSemPenáltis  \n",
      "0            40.7                       33.5  \n",
      "1            31.7                       27.7  \n",
      "2            78.8                       69.7  \n",
      "3            32.1                       26.9  \n",
      "4            51.3                       46.5  \n"
     ]
    }
   ],
   "source": [
    "df_shooting_raw = tables[8].copy()\n",
    "\n",
    "df_shooting_raw.columns = [\n",
    "    \"_\".join([str(c).strip() for c in col if c]) if isinstance(col, tuple) else str(col).strip()\n",
    "    for col in df_shooting_raw.columns.values\n",
    "]\n",
    "\n",
    "print(df_shooting_raw.columns.tolist())\n",
    "\n",
    "df_shooting = df_shooting_raw[[\n",
    "    'Unnamed: 0_level_0_Squad',\n",
    "    'Standard_Gls',\n",
    "    'Standard_Sh',\n",
    "    'Standard_SoT',\n",
    "    'Standard_SoT%',\n",
    "    'Expected_xG',\n",
    "    'Expected_npxG'\n",
    "]].copy()\n",
    "\n",
    "df_shooting = df_shooting.rename(columns={\n",
    "    'Unnamed: 0_level_0_Squad': 'Equipa',\n",
    "    'Standard_Gls': 'Golos',\n",
    "    'Standard_Sh': 'Remates',\n",
    "    'Standard_SoT': 'RematesÀBaliza',\n",
    "    'Standard_SoT%': '%DeRematesÀBaliza',\n",
    "    'Expected_xG': 'GolosEsperados',\n",
    "    'Expected_npxG': 'GolosEsperadosSemPenáltis'\n",
    "})\n",
    "\n",
    "\n",
    "print(df_shooting.head())\n",
    "\n",
    "\n",
    "df_shooting.to_csv('shooting_2024-2025.csv', index=False)"
   ]
  },
  {
   "cell_type": "code",
   "execution_count": 26,
   "id": "5bee9254-2d5a-4081-a75b-f71d1ae9c4b0",
   "metadata": {},
   "outputs": [
    {
     "name": "stdout",
     "output_type": "stream",
     "text": [
      "        Equipa  %DePassesCompletos  DistanciaTotalPercorrida  \\\n",
      "0       Arouca                79.0                    228976   \n",
      "1  AVS Futebol                75.7                    191661   \n",
      "2      Benfica                82.1                    278683   \n",
      "3     Boavista                71.3                    163678   \n",
      "4        Braga                81.1                    279688   \n",
      "\n",
      "   DistanciaProgressivaPercorrida  Assistencias  GolosEsperadosAssistidos  \\\n",
      "0                           85117            18                      25.2   \n",
      "1                           76821            17                      22.0   \n",
      "2                           97148            58                      55.5   \n",
      "3                           69336             8                      17.5   \n",
      "4                           90896            40                      36.9   \n",
      "\n",
      "   PassesChave  PassesProgressivos  \n",
      "0          262                1184  \n",
      "1          242                 877  \n",
      "2          425                1874  \n",
      "3          229                 886  \n",
      "4          346                1510  \n"
     ]
    }
   ],
   "source": [
    "df_passing_raw = tables[10].copy()\n",
    "\n",
    "\n",
    "df_passing_raw.columns = [\n",
    "    \"_\".join([str(c).strip() for c in col if c]) if isinstance(col, tuple) else str(col).strip()\n",
    "    for col in df_passing_raw.columns.values\n",
    "]\n",
    "\n",
    "df_passing = df_passing_raw[[\n",
    "    'Unnamed: 0_level_0_Squad',\n",
    "    'Total_Cmp%',\n",
    "    'Total_TotDist',\n",
    "    'Total_PrgDist',\n",
    "    'Unnamed: 17_level_0_Ast',\n",
    "    'Unnamed: 18_level_0_xAG',\n",
    "    'Unnamed: 21_level_0_KP',\n",
    "    'Unnamed: 25_level_0_PrgP'\n",
    "]].copy()\n",
    "\n",
    "df_passing = df_passing.rename(columns={\n",
    "    'Unnamed: 0_level_0_Squad': 'Equipa',\n",
    "    'Total_Cmp%': '%DePassesCompletos',\n",
    "    'Total_TotDist': 'DistanciaTotalPercorrida',\n",
    "    'Total_PrgDist': 'DistanciaProgressivaPercorrida',\n",
    "    'Unnamed: 17_level_0_Ast': 'Assistencias',\n",
    "    'Unnamed: 18_level_0_xAG': 'GolosEsperadosAssistidos',\n",
    "    'Unnamed: 21_level_0_KP': 'PassesChave',\n",
    "    'Unnamed: 25_level_0_PrgP': 'PassesProgressivos'\n",
    "})\n",
    "\n",
    "\n",
    "print(df_passing.head())\n",
    "\n",
    "df_passing.to_csv('passing_2024-2025.csv', index=False)"
   ]
  },
  {
   "cell_type": "code",
   "execution_count": 29,
   "id": "cd856db3-f2b0-43f1-bfac-1941ab6672c0",
   "metadata": {},
   "outputs": [
    {
     "name": "stdout",
     "output_type": "stream",
     "text": [
      "        Equipa  TentativasDePasse  BolasEmProfundidade  InversoesDeJogo\n",
      "0       Arouca              15955                   70               76\n",
      "1  AVS Futebol              13626                   28               69\n",
      "2      Benfica              18762                   85              167\n",
      "3     Boavista              12251                   40               92\n",
      "4        Braga              18810                   49               97\n"
     ]
    }
   ],
   "source": [
    "\n",
    "df_passing_types_raw = tables[12].copy()\n",
    "\n",
    "\n",
    "df_passing_types_raw.columns = [\n",
    "    \"_\".join([str(c).strip() for c in col if c]) if isinstance(col, tuple) else str(col).strip()\n",
    "    for col in df_passing_types_raw.columns.values\n",
    "]\n",
    "\n",
    "\n",
    "df_passing_types = df_passing_types_raw[[\n",
    "    'Unnamed: 0_level_0_Squad',\n",
    "    'Unnamed: 3_level_0_Att',\n",
    "    'Pass Types_TB',\n",
    "    'Pass Types_Sw'\n",
    "]].copy()\n",
    "\n",
    "\n",
    "df_passing_types = df_passing_types.rename(columns={\n",
    "    'Unnamed: 0_level_0_Squad': 'Equipa',\n",
    "    'Unnamed: 3_level_0_Att': 'TentativasDePasse',\n",
    "    'Pass Types_TB': 'BolasEmProfundidade',\n",
    "    'Pass Types_Sw': 'InversoesDeJogo'\n",
    "})\n",
    "\n",
    "\n",
    "print(df_passing_types.head())\n",
    "\n",
    "df_passing_types.to_csv('passing_types_2024-2025.csv', index=False)"
   ]
  },
  {
   "cell_type": "code",
   "execution_count": 28,
   "id": "86e53db9-0f86-4ae9-9196-ccacf547a204",
   "metadata": {},
   "outputs": [
    {
     "name": "stdout",
     "output_type": "stream",
     "text": [
      "['Unnamed: 0_level_0_Squad', 'Unnamed: 1_level_0_# Pl', 'Unnamed: 2_level_0_90s', 'Unnamed: 3_level_0_Att', 'Pass Types_Live', 'Pass Types_Dead', 'Pass Types_FK', 'Pass Types_TB', 'Pass Types_Sw', 'Pass Types_Crs', 'Pass Types_TI', 'Pass Types_CK', 'Corner Kicks_In', 'Corner Kicks_Out', 'Corner Kicks_Str', 'Outcomes_Cmp', 'Outcomes_Off', 'Outcomes_Blocks']\n"
     ]
    }
   ],
   "source": [
    "print(df_passing_types_raw.columns.tolist())"
   ]
  },
  {
   "cell_type": "code",
   "execution_count": 30,
   "id": "0ccf84bc-a34b-4f40-9cae-5ab7b13aac20",
   "metadata": {},
   "outputs": [
    {
     "name": "stdout",
     "output_type": "stream",
     "text": [
      "        Equipa  AcoesQueCriamRemates  AcoesQueCriamRematesPor90minutos  \\\n",
      "0       Arouca                   699                             20.56   \n",
      "1  AVS Futebol                   594                             17.47   \n",
      "2      Benfica                   989                             29.09   \n",
      "3     Boavista                   587                             17.26   \n",
      "4        Braga                   808                             23.76   \n",
      "\n",
      "   AcoesQueCriamGolos  AcoesQueCriamGolosPor90minutos  \n",
      "0                  60                            1.76  \n",
      "1                  44                            1.29  \n",
      "2                 140                            4.12  \n",
      "3                  33                            0.97  \n",
      "4                  96                            2.82  \n"
     ]
    }
   ],
   "source": [
    "df_gca_raw = tables[14].copy()\n",
    "\n",
    "\n",
    "df_gca_raw.columns = [\n",
    "    \"_\".join([str(c).strip() for c in col if c]) if isinstance(col, tuple) else str(col).strip()\n",
    "    for col in df_gca_raw.columns.values\n",
    "]\n",
    "\n",
    "\n",
    "df_gca = df_gca_raw[[\n",
    "    'Unnamed: 0_level_0_Squad',\n",
    "    'SCA_SCA',\n",
    "    'SCA_SCA90',\n",
    "    'GCA_GCA',\n",
    "    'GCA_GCA90'\n",
    "]].copy()\n",
    "\n",
    "\n",
    "df_gca = df_gca.rename(columns={\n",
    "    'Unnamed: 0_level_0_Squad': 'Equipa',\n",
    "    'SCA_SCA': 'AcoesQueCriamRemates',\n",
    "    'SCA_SCA90': 'AcoesQueCriamRematesPor90minutos',\n",
    "    'GCA_GCA': 'AcoesQueCriamGolos',\n",
    "    'GCA_GCA90': 'AcoesQueCriamGolosPor90minutos'\n",
    "})\n",
    "\n",
    "\n",
    "print(df_gca.head())\n",
    "\n",
    "\n",
    "df_gca.to_csv('goal_and_shot_creation_2024-2025.csv', index=False)"
   ]
  },
  {
   "cell_type": "code",
   "execution_count": 31,
   "id": "3f4807bf-6615-4949-9dc7-44bda9040b29",
   "metadata": {},
   "outputs": [
    {
     "name": "stdout",
     "output_type": "stream",
     "text": [
      "        Equipa  Desarmes  Intercecoes  Bloqueamentos  Desarmes+Intercecoes  \\\n",
      "0       Arouca       552          297            376                   849   \n",
      "1  AVS Futebol       565          303            390                   868   \n",
      "2      Benfica       625          311            316                   936   \n",
      "3     Boavista       565          313            336                   878   \n",
      "4        Braga       571          280            333                   851   \n",
      "\n",
      "   Alivios  \n",
      "0      852  \n",
      "1      929  \n",
      "2      493  \n",
      "3      843  \n",
      "4      795  \n"
     ]
    }
   ],
   "source": [
    "df_defensive_raw = tables[16].copy()\n",
    "\n",
    "\n",
    "df_defensive_raw.columns = [\n",
    "    \"_\".join([str(c).strip() for c in col if c]) if isinstance(col, tuple) else str(col).strip()\n",
    "    for col in df_defensive_raw.columns.values\n",
    "]\n",
    "\n",
    "\n",
    "df_defensive = df_defensive_raw[[\n",
    "    'Unnamed: 0_level_0_Squad',\n",
    "    'Tackles_Tkl',\n",
    "    'Unnamed: 15_level_0_Int',\n",
    "    'Blocks_Blocks',\n",
    "    'Unnamed: 16_level_0_Tkl+Int',\n",
    "    'Unnamed: 17_level_0_Clr'\n",
    "]].copy()\n",
    "\n",
    "\n",
    "df_defensive = df_defensive.rename(columns={\n",
    "    'Unnamed: 0_level_0_Squad': 'Equipa',\n",
    "    'Tackles_Tkl': 'Desarmes',\n",
    "    'Unnamed: 15_level_0_Int': 'Intercecoes',\n",
    "    'Blocks_Blocks': 'Bloqueamentos',\n",
    "    'Unnamed: 16_level_0_Tkl+Int': 'Desarmes+Intercecoes',\n",
    "    'Unnamed: 17_level_0_Clr': 'Alivios'\n",
    "})\n",
    "\n",
    "\n",
    "print(df_defensive.head())\n",
    "\n",
    "\n",
    "df_defensive.to_csv('defensive_actions_2024-2025.csv', index=False)"
   ]
  },
  {
   "cell_type": "code",
   "execution_count": 34,
   "id": "13e87b16-9994-41e3-9831-7e2d910f327e",
   "metadata": {},
   "outputs": [
    {
     "name": "stdout",
     "output_type": "stream",
     "text": [
      "        Equipa  PosseDeBola  ToquesNaBola  ConducoesProgressivas  \\\n",
      "0       Arouca         52.3         19785                    418   \n",
      "1  AVS Futebol         44.0         17581                    388   \n",
      "2      Benfica         58.0         22577                    684   \n",
      "3     Boavista         40.3         15990                    264   \n",
      "4        Braga         56.8         22526                    602   \n",
      "\n",
      "   RececoesProgressivas  \n",
      "0                  1175  \n",
      "1                   863  \n",
      "2                  1861  \n",
      "3                   880  \n",
      "4                  1496  \n"
     ]
    }
   ],
   "source": [
    "\n",
    "df_possession_raw = tables[18].copy()\n",
    "\n",
    "\n",
    "df_possession_raw.columns = [\n",
    "    \"_\".join([str(c).strip() for c in col if c]) if isinstance(col, tuple) else str(col).strip()\n",
    "    for col in df_possession_raw.columns.values\n",
    "]\n",
    "\n",
    "\n",
    "df_possession = df_possession_raw[[\n",
    "    'Unnamed: 0_level_0_Squad',\n",
    "    'Unnamed: 2_level_0_Poss',\n",
    "    'Touches_Touches',\n",
    "    'Carries_PrgC',\n",
    "    'Receiving_PrgR'\n",
    "]].copy()\n",
    "\n",
    "\n",
    "df_possession = df_possession.rename(columns={\n",
    "    'Unnamed: 0_level_0_Squad': 'Equipa',\n",
    "    'Unnamed: 2_level_0_Poss': 'PosseDeBola',\n",
    "    'Touches_Touches': 'ToquesNaBola',\n",
    "    'Carries_PrgC': 'ConducoesProgressivas',\n",
    "    'Receiving_PrgR': 'RececoesProgressivas'\n",
    "})\n",
    "\n",
    "\n",
    "print(df_possession.head())\n",
    "\n",
    "\n",
    "df_possession.to_csv('possession_2024-2025.csv', index=False)"
   ]
  },
  {
   "cell_type": "code",
   "execution_count": 33,
   "id": "e8656b67-f7d3-424a-b86b-f986b2c7119b",
   "metadata": {},
   "outputs": [
    {
     "name": "stdout",
     "output_type": "stream",
     "text": [
      "['Unnamed: 0_level_0_Squad', 'Unnamed: 1_level_0_# Pl', 'Unnamed: 2_level_0_Poss', 'Unnamed: 3_level_0_90s', 'Touches_Touches', 'Touches_Def Pen', 'Touches_Def 3rd', 'Touches_Mid 3rd', 'Touches_Att 3rd', 'Touches_Att Pen', 'Touches_Live', 'Take-Ons_Att', 'Take-Ons_Succ', 'Take-Ons_Succ%', 'Take-Ons_Tkld', 'Take-Ons_Tkld%', 'Carries_Carries', 'Carries_TotDist', 'Carries_PrgDist', 'Carries_PrgC', 'Carries_1/3', 'Carries_CPA', 'Carries_Mis', 'Carries_Dis', 'Receiving_Rec', 'Receiving_PrgR']\n"
     ]
    }
   ],
   "source": [
    "print(df_possession_raw.columns.tolist())"
   ]
  },
  {
   "cell_type": "code",
   "execution_count": 37,
   "id": "34cbf1cf-7ea6-48b4-b46b-e1d28111db8f",
   "metadata": {},
   "outputs": [
    {
     "name": "stdout",
     "output_type": "stream",
     "text": [
      "        Equipa  SaldoDeGolos+/-  SaldoDeGolos+/-Por90minutos  \\\n",
      "0       Arouca              -14                        -0.41   \n",
      "1  AVS Futebol              -35                        -1.03   \n",
      "2      Benfica               56                         1.65   \n",
      "3     Boavista              -35                        -1.03   \n",
      "4        Braga               25                         0.74   \n",
      "\n",
      "   SaldoDeGolosEsperados+/-  SaldoDeGolosEsperados+/-Por90minutos  \n",
      "0                      -6.0                                 -0.18  \n",
      "1                     -23.3                                 -0.68  \n",
      "2                      49.5                                  1.46  \n",
      "3                     -24.0                                 -0.71  \n",
      "4                      17.1                                  0.50  \n"
     ]
    }
   ],
   "source": [
    "\n",
    "df_success_raw = tables[20].copy()\n",
    "\n",
    "\n",
    "df_success_raw.columns = [\n",
    "    \"_\".join([str(c).strip() for c in col if c]) if isinstance(col, tuple) else str(col).strip()\n",
    "    for col in df_success_raw.columns.values\n",
    "]\n",
    "\n",
    "\n",
    "df_success = df_success_raw[[\n",
    "    'Unnamed: 0_level_0_Squad',\n",
    "    'Team Success_+/-',\n",
    "    'Team Success_+/-90',\n",
    "    'Team Success (xG)_xG+/-',\n",
    "    'Team Success (xG)_xG+/-90'\n",
    "]].copy()\n",
    "\n",
    "\n",
    "df_success = df_success.rename(columns={\n",
    "    'Unnamed: 0_level_0_Squad': 'Equipa',\n",
    "    'Team Success_+/-': 'SaldoDeGolos+/-',\n",
    "    'Team Success_+/-90': 'SaldoDeGolos+/-Por90minutos',\n",
    "    'Team Success (xG)_xG+/-': 'SaldoDeGolosEsperados+/-',\n",
    "    'Team Success (xG)_xG+/-90': 'SaldoDeGolosEsperados+/-Por90minutos'\n",
    "})\n",
    "\n",
    "\n",
    "print(df_success.head())\n",
    "\n",
    "# Exporta para CSV\n",
    "df_success.to_csv('team_success_2024-2025.csv', index=False)"
   ]
  },
  {
   "cell_type": "code",
   "execution_count": 36,
   "id": "09a929f3-909c-46f6-bebd-9ec1694ca32e",
   "metadata": {},
   "outputs": [
    {
     "name": "stdout",
     "output_type": "stream",
     "text": [
      "['Unnamed: 0_level_0_Squad', 'Unnamed: 1_level_0_# Pl', 'Unnamed: 2_level_0_Age', 'Playing Time_MP', 'Playing Time_Min', 'Playing Time_Mn/MP', 'Playing Time_Min%', 'Playing Time_90s', 'Starts_Starts', 'Starts_Mn/Start', 'Starts_Compl', 'Subs_Subs', 'Subs_Mn/Sub', 'Subs_unSub', 'Team Success_PPM', 'Team Success_onG', 'Team Success_onGA', 'Team Success_+/-', 'Team Success_+/-90', 'Team Success (xG)_onxG', 'Team Success (xG)_onxGA', 'Team Success (xG)_xG+/-', 'Team Success (xG)_xG+/-90']\n"
     ]
    }
   ],
   "source": [
    "print(df_success_raw.columns.tolist())"
   ]
  },
  {
   "cell_type": "code",
   "execution_count": 38,
   "id": "8b2f31e1-2566-4ffa-b36d-c15c5c53362f",
   "metadata": {},
   "outputs": [
    {
     "name": "stdout",
     "output_type": "stream",
     "text": [
      "        Equipa  %DeDuelosAereosGanhos\n",
      "0       Arouca                   48.8\n",
      "1  AVS Futebol                   54.6\n",
      "2      Benfica                   55.4\n",
      "3     Boavista                   49.1\n",
      "4        Braga                   48.3\n"
     ]
    }
   ],
   "source": [
    "\n",
    "df_misc_raw = tables[22].copy()\n",
    "\n",
    "\n",
    "df_misc_raw.columns = [\n",
    "    \"_\".join([str(c).strip() for c in col if c]) if isinstance(col, tuple) else str(col).strip()\n",
    "    for col in df_misc_raw.columns.values\n",
    "]\n",
    "\n",
    "\n",
    "df_misc = df_misc_raw[[\n",
    "    'Unnamed: 0_level_0_Squad',\n",
    "    'Aerial Duels_Won%'\n",
    "]].copy()\n",
    "\n",
    "df_misc = df_misc.rename(columns={\n",
    "    'Unnamed: 0_level_0_Squad': 'Equipa',\n",
    "    'Aerial Duels_Won%': '%DeDuelosAereosGanhos'\n",
    "})\n",
    "\n",
    "print(df_misc.head())\n",
    "\n",
    "df_misc.to_csv('miscellaneous_stats_2024-2025.csv', index=False)"
   ]
  },
  {
   "cell_type": "code",
   "execution_count": 12,
   "id": "c90d8898-8151-4006-a0b4-b0aff4383163",
   "metadata": {},
   "outputs": [
    {
     "name": "stdout",
     "output_type": "stream",
     "text": [
      "Dataset final criado com sucesso!\n",
      "        Equipa  JogosDisputados  Vitórias  Empates  Derrotas  GolosMarcados  \\\n",
      "0  Sporting CP               34        25        7         2             88   \n",
      "1      Benfica               34        25        5         4             84   \n",
      "2        Porto               34        22        5         7             65   \n",
      "3        Braga               34        19        9         6             55   \n",
      "4  Santa Clara               34        17        6        11             36   \n",
      "\n",
      "   GolosSofridos  DiferençaDeGolos  Pontos  GolosEsperados  ...  \\\n",
      "0             27                61      82            72.2  ...   \n",
      "1             28                56      80            78.8  ...   \n",
      "2             30                35      71            56.5  ...   \n",
      "3             30                25      66            51.3  ...   \n",
      "4             32                 4      57            42.6  ...   \n",
      "\n",
      "   AcoesQueCriamGolos  AcoesQueCriamGolosPor90minutos  %DeDuelosAereosGanhos  \\\n",
      "0                 145                            4.26                   53.1   \n",
      "1                 140                            4.12                   55.4   \n",
      "2                 115                            3.38                   50.7   \n",
      "3                  96                            2.82                   48.3   \n",
      "4                  54                            1.59                   51.5   \n",
      "\n",
      "   Assistências  Golos+Assistências  ConduçõesProgressivas  SaldoDeGolos+/-  \\\n",
      "0            56                 142                    797               61   \n",
      "1            58                 139                    684               56   \n",
      "2            44                 109                    578               35   \n",
      "3            40                  94                    602               25   \n",
      "4            25                  60                    401                4   \n",
      "\n",
      "   SaldoDeGolos+/-Por90minutos  SaldoDeGolosEsperados+/-  \\\n",
      "0                         1.79                      48.8   \n",
      "1                         1.65                      49.5   \n",
      "2                         1.03                      26.1   \n",
      "3                         0.74                      17.1   \n",
      "4                         0.12                       9.7   \n",
      "\n",
      "   SaldoDeGolosEsperados+/-Por90minutos  \n",
      "0                                  1.43  \n",
      "1                                  1.46  \n",
      "2                                  0.77  \n",
      "3                                  0.50  \n",
      "4                                  0.28  \n",
      "\n",
      "[5 rows x 55 columns]\n"
     ]
    }
   ],
   "source": [
    "ficheiros = [\n",
    "    'overall_2024-2025.csv',\n",
    "    'passing_2024-2025.csv',\n",
    "    'passing_types_2024-2025.csv',\n",
    "    'possession_2024-2025.csv',\n",
    "    'shooting_2024-2025.csv',\n",
    "    'defensive_actions_2024-2025.csv',\n",
    "    'goalkeeping_2024-2025.csv',\n",
    "    'goalkeeping_advanced_2024-2025.csv',\n",
    "    'goal_and_shot_creation_2024-2025.csv',\n",
    "    'miscellaneous_stats_2024-2025.csv',\n",
    "    'stats_2024-2025.csv',\n",
    "    'team_success_2024-2025.csv'\n",
    "]\n",
    "\n",
    "dataset_completo = pd.read_csv(ficheiros[0])\n",
    "\n",
    "for ficheiro in ficheiros[1:]:\n",
    "    df_temp = pd.read_csv(ficheiro)\n",
    "    \n",
    "    colunas_existentes = set(dataset_completo.columns)\n",
    "    \n",
    "    colunas_para_adicionar = [\n",
    "        col for col in df_temp.columns \n",
    "        if col not in colunas_existentes or col == 'Equipa'\n",
    "    ]\n",
    "\n",
    "    df_temp_selecionado = df_temp[colunas_para_adicionar]\n",
    "    \n",
    "    dataset_completo = pd.merge(\n",
    "        dataset_completo, \n",
    "        df_temp_selecionado, \n",
    "        on='Equipa', \n",
    "        how='inner'\n",
    "    )\n",
    "\n",
    "print(\"Dataset final criado com sucesso!\")\n",
    "print(dataset_completo.head())\n"
   ]
  },
  {
   "cell_type": "code",
   "execution_count": 13,
   "id": "6cd7c44d-035d-4df5-8351-991643419b64",
   "metadata": {},
   "outputs": [],
   "source": [
    "dataset_completo.to_csv('dataset_completo_2024-2025.csv', index=False)"
   ]
  },
  {
   "cell_type": "code",
   "execution_count": null,
   "id": "629be190-9bd4-44aa-b528-07d0905618f8",
   "metadata": {},
   "outputs": [],
   "source": []
  }
 ],
 "metadata": {
  "kernelspec": {
   "display_name": "Python 3 (ipykernel)",
   "language": "python",
   "name": "python3"
  },
  "language_info": {
   "codemirror_mode": {
    "name": "ipython",
    "version": 3
   },
   "file_extension": ".py",
   "mimetype": "text/x-python",
   "name": "python",
   "nbconvert_exporter": "python",
   "pygments_lexer": "ipython3",
   "version": "3.11.9"
  }
 },
 "nbformat": 4,
 "nbformat_minor": 5
}
